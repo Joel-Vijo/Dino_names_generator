{
  "nbformat": 4,
  "nbformat_minor": 0,
  "metadata": {
    "colab": {
      "name": "Untitled0.ipynb",
      "provenance": [],
      "collapsed_sections": [],
      "authorship_tag": "ABX9TyNh5LGBfiM7qRVMW22iH5U1",
      "include_colab_link": true
    },
    "kernelspec": {
      "name": "python3",
      "display_name": "Python 3"
    },
    "language_info": {
      "name": "python"
    }
  },
  "cells": [
    {
      "cell_type": "markdown",
      "metadata": {
        "id": "view-in-github",
        "colab_type": "text"
      },
      "source": [
        "<a href=\"https://colab.research.google.com/github/Joel-Vijo/MNIST-digit-classifier/blob/main/Dino_names.ipynb\" target=\"_parent\"><img src=\"https://colab.research.google.com/assets/colab-badge.svg\" alt=\"Open In Colab\"/></a>"
      ]
    },
    {
      "cell_type": "code",
      "execution_count": null,
      "metadata": {
        "id": "qTxXlVTCSfVP"
      },
      "outputs": [],
      "source": [
        "import torch \n",
        "import torch.nn as nn\n",
        "import numpy as np\n",
        "import random\n",
        "import matplotlib.pyplot  as plt"
      ]
    },
    {
      "cell_type": "code",
      "source": [
        "data = open('dinosaurs.csv', 'r').read() \n",
        "data = data.lower()\n",
        "chars = list(set(data))\n",
        "chars.remove('\\n')\n",
        "chars.sort()\n",
        "print(chars)\n",
        "data_size, chars_size = len(data), len(chars)\n",
        "\n",
        "print(\"data size= \" ,data_size)\n",
        "print(\"no of unique chars = \" ,chars_size)\n",
        "\n",
        "char_to_ix = {ch:i for i,ch in enumerate(chars)}   \n",
        "ix_to_char = {i:ch for i,ch in enumerate(chars)}    \n",
        "data = data.split('\\n')\n",
        "print(data)\n",
        "print(list(data[0]))\n",
        "random.shuffle(data)"
      ],
      "metadata": {
        "colab": {
          "base_uri": "https://localhost:8080/"
        },
        "id": "WeHP7-L5TFwX",
        "outputId": "b4d92c4d-adf8-4d97-9d71-dcb722c56d03"
      },
      "execution_count": null,
      "outputs": [
        {
          "output_type": "stream",
          "name": "stdout",
          "text": [
            "['_', 'a', 'b', 'c', 'd', 'e', 'f', 'g', 'h', 'i', 'j', 'k', 'l', 'm', 'n', 'o', 'p', 'q', 'r', 's', 't', 'u', 'v', 'w', 'x', 'y', 'z']\n",
            "data size=  19656\n",
            "no of unique chars =  27\n",
            "['aachenosaurus', 'aardonyx', 'abelisaurus', 'abrictosaurus', 'abrosaurus', 'abydosaurus', 'acantholipan', 'acanthopholis', 'achelousaurus', 'acheroraptor', 'achillesaurus', 'achillobator', 'acristavus', 'acrocanthosaurus', 'acrotholus', 'actiosaurus', 'adamantisaurus', 'adasaurus', 'adelolophus', 'adeopapposaurus', 'adratiklit', 'adynomosaurus', 'aegyptosaurus', 'aeolosaurus', 'aepisaurus', 'aepyornithomimus', 'aerosteon', 'afromimus', 'aetonyx', 'afrovenator', 'agathaumas', 'aggiosaurus', 'agilisaurus', 'agnosphitys', 'agrosaurus', 'agujaceratops', 'agustinia', 'ahshislepelta', 'airakoraptor', 'ajancingenia', 'ajkaceratops', 'akainacephalus', 'alamosaurus', 'alaskacephale', 'albalophosaurus', 'albertaceratops', 'albertadromeus', 'albertavenator', 'albertonykus', 'albertosaurus', 'albinykus', 'alcovasaurus', 'albisaurus', 'alectrosaurus', 'aletopelta', 'algoasaurus', 'alioramus', 'aliwalia', 'allosaurus', 'almas', 'alnashetri', 'alocodon', 'altirhinus', 'altispinax', 'alvarezsaurus', 'alwalkeria', 'alxasaurus', 'amargasaurus', 'amargastegos', 'amargatitanis', 'amazonsaurus', 'ammosaurus', 'ambopteryx', 'ampelosaurus', 'amphicoelias', 'amphisaurus', 'amtocephale', 'amtosaurus', 'amurosaurus', 'amygdalodon', 'anabisetia', 'anasazisaurus', 'anatosaurus', 'anatotitan', 'anchiceratops', 'anchiornis', 'anchisaurus', 'andesaurus', 'andhrasaurus', 'angaturama', 'angloposeidon', 'angolatitan', 'angulomastacator', 'anhuilong', 'aniksosaurus', 'animantarx', 'ankistrodon', 'ankylosaurus', 'anodontosaurus', 'anomalipes', 'anoplosaurus', 'anserimimus', 'antarctopelta', 'antarctosaurus', 'antetonitrus', 'anthodon', 'antrodemus', 'anzu', 'aoniraptor', 'aorun', 'apatodon', 'apatoraptor', 'apatosaurus', 'appalachiosaurus', 'aquilarhinus', 'aquilops', 'aragosaurus', 'aralosaurus', 'archaeoceratops', 'archaeodontosaurus', 'archaeopteryx', 'archaeornis', 'archaeornithoides', 'archaeornithomimus', 'archaeovolans', 'arcovenator', 'arctosaurus', 'arcusaurus', 'arenysaurus', 'argentinosaurus', 'argyrosaurus', 'aristosaurus', 'aristosuchus', 'arizonasaurus', 'arkansaurus', 'arkharavia', 'arrhinoceratops', 'arstanosaurus', 'asiaceratops', 'asiamericana', 'asiatosaurus', 'astrodon', 'astrodonius', 'astrodontaurus', 'astrophocaudia', 'asylosaurus', 'atacamatitan', 'atlantosaurus', 'atlasaurus', 'atlascopcosaurus', 'atrociraptor', 'atsinganosaurus', 'aublysodon', 'aucasaurus', 'augustia', 'augustynolophus', 'auroraceratops', 'aurornis', 'australodocus', 'australovenator', 'austrocheirus', 'austroposeidon', 'austroraptor', 'austrosaurus', 'avaceratops', 'avalonia', 'avalonianus', 'aviatyrannis', 'avimimus', 'avipes', 'avisaurus', 'azendohsaurus', 'baalsaurus', 'bactrosaurus', 'bagaceratops', 'bagaraatan', 'bagualosaurus', 'bahariasaurus', 'bainoceratops', 'bajadasaurus', 'bakesaurus', 'balaur', 'balochisaurus', 'bambiraptor', 'banji', 'bannykus', 'baotianmansaurus', 'barapasaurus', 'barilium', 'barosaurus', 'barrosasaurus', 'barsboldia', 'baryonyx', 'basutodon', 'bathygnathus', 'bashunosaurus', 'batyrosaurus', 'baurutitan', 'becklespinax', 'bayannurosaurus', 'bayosaurus', 'beelemodon', 'beibeilong', 'beipiaognathus', 'beipiaosaurus', 'beishanlong', 'bellusaurus', 'belodon', 'berberosaurus', 'betasuchus', 'bicentenaria', 'bienosaurus', 'bihariosaurus', 'bissektipelta', 'bistahieversor', 'blasisaurus', 'blikanasaurus', 'bolong', 'bonapartenykus', 'bonapartesaurus', 'bonatitan', 'bonitasaura', 'borealopelta', 'borealosaurus', 'boreonykus', 'borogovia', 'bothriospondylus', 'brachiosaurus', 'brachyceratops', 'brachylophosaurus', 'brachypodosaurus', 'brachyrophus', 'brachytaenius', 'brachytrachelopan', 'bradycneme', 'brasileosaurus', 'brasilotitan', 'bravoceratops', 'breviceratops', 'brohisaurus', 'brontomerus', 'brontosaurus', 'bruhathkayosaurus', 'bugenasaura', 'buitreraptor', 'burianosaurus', 'buriolestes', 'byronosaurus', 'caenagnathasia', 'caenagnathus', 'caihong', 'calamosaurus', 'calamospondylus', 'callovosaurus', 'camarasaurus', 'camarillasaurus', 'camelotia', 'camposaurus', 'camptonotus', 'camptosaurus', 'campylodon', 'campylodoniscus', 'canardia', 'capitalsaurus', 'carcharodontosaurus', 'cardiodon', 'carnotaurus', 'caseosaurus', 'cathartesaura', 'cathetosaurus', 'caudipteryx', 'caudocoelus', 'caulodon', 'cedarosaurus', 'cedarpelta', 'cedrorestes', 'centemodon', 'centrosaurus', 'cerasinops', 'ceratonykus', 'ceratops', 'ceratosaurus', 'cetiosauriscus', 'cetiosaurus', 'changchunsaurus', 'changdusaurus', 'changyuraptor', 'chaoyangsaurus', 'charonosaurus', 'chasmosaurus', 'chassternbergia', 'chebsaurus', 'cheneosaurus', 'chenanisaurus', 'chialingosaurus', 'chiayusaurus', 'chienkosaurus', 'chilantaisaurus', 'chilesaurus', 'chindesaurus', 'chingkankousaurus', 'chinshakiangosaurus', 'chirostenotes', 'choconsaurus', 'chondrosteosaurus', 'choyrodon', 'chromogisaurus', 'chuandongocoelurus', 'chuanjiesaurus', 'chuanqilong', 'chubutisaurus', 'chungkingosaurus', 'chuxiongosaurus', 'cinizasaurus', 'cionodon', 'citipati', 'cladeiodon', 'claorhynchus', 'claosaurus', 'clarencea', 'clasmodosaurus', 'clepsysaurus', 'coahuilaceratops', 'coelophysis', 'coelosaurus', 'coeluroides', 'coelurosauravus', 'coelurus', 'colepiocephale', 'colonosaurus', 'coloradia', 'coloradisaurus', 'comahuesaurus', 'comanchesaurus', 'compsognathus', 'compsosuchus', 'concavenator', 'conchoraptor', 'condorraptor', 'convolosaurus', 'coronosaurus', 'corythoraptor', 'corythosaurus', 'craspedodon', 'crataeomus', 'craterosaurus', 'creosaurus', 'crichtonpelta', 'crichtonsaurus', 'cristatusaurus', 'crosbysaurus', 'crittendenceratops', 'cruxicheiros', 'cryolophosaurus', 'cryptodraco', 'cryptoraptor', 'cryptosaurus', 'cryptovolans', 'cumnoria', 'daanosaurus', 'dacentrurus', 'dachongosaurus', 'daemonosaurus', 'dahalokely', 'dakosaurus', 'dakotadon', 'dalianraptor', 'dakotaraptor', 'daliansaurus', 'damalasaurus', 'dandakosaurus', 'danubiosaurus', 'darwinsaurus', 'dashanpusaurus', 'daspletosaurus', 'dasygnathoides', 'dasygnathus', 'datanglong', 'datonglong', 'datousaurus', 'daurosaurus', 'daxiatitan', 'deinocheirus', 'deinodon', 'deinonychus', 'delapparentia', 'deltadromeus', 'demandasaurus', 'denversaurus', 'deuterosaurus', 'diabloceratops', 'diamantinasaurus', 'dianchungosaurus', 'diceratops', 'diceratus', 'diclonius', 'dicraeosaurus', 'didanodon', 'dilong', 'dilophosaurus', 'dimodosaurus', 'dinheirosaurus', 'diluvicursor', 'dinodocus', 'dinosaurus', 'dinotyrannus', 'diplodocus', 'diplotomodon', 'diracodon', 'dolichosuchus', 'dollodon', 'dongbeititan', 'dongyangopelta', 'dongyangosaurus', 'doratodon', 'doryphorosaurus', 'draconyx', 'dracopelta', 'dracorex', 'dracoraptor', 'dracovenator', 'dravidosaurus', 'dreadnoughtus', 'drinker_nisti', 'dromaeosauroides', 'dromaeosaurus', 'dromiceiomimus', 'dromicosaurus', 'drusilasaura', 'dryosaurus', 'dryptosauroides', 'dryptosaurus', 'dubreuillosaurus', 'duriatitan', 'duriavenator', 'dynamosaurus', 'dynamoterror', 'dyoplosaurus', 'dysalotosaurus', 'dysganus', 'dyslocosaurus', 'dystrophaeus', 'dystylosaurus', 'echinodon', 'edmarka', 'edmontonia', 'edmontosaurus', 'efraasia', 'einiosaurus', 'ekrixinatosaurus', 'elachistosuchus', 'elaltitan', 'elaphrosaurus', 'elmisaurus', 'elopteryx', 'elosaurus', 'elrhazosaurus', 'emausaurus', 'embasaurus', 'enigmosaurus', 'eoabelisaurus', 'eobrontosaurus', 'eocarcharia', 'eoceratops', 'eocursor', 'eodromaeus', 'eolambia', 'eomamenchisaurus', 'eoplophysis', 'eoraptor', 'eosinopteryx', 'eotrachodon', 'eotriceratops', 'eotyrannus', 'eousdryosaurus', 'epachthosaurus', 'epanterias', 'epicampodon', 'epichirostenotes', 'epidendrosaurus', 'epidexipteryx', 'equijubus', 'erectopus', 'erketu', 'erliansaurus', 'erlikosaurus', 'eshanosaurus', 'eucamerotus', 'eucentrosaurus', 'eucercosaurus', 'eucnemesaurus', 'eucoelophysis', 'eugongbusaurus', 'euhelopus', 'euoplocephalus', 'eupodosaurus', 'eurolimnornis', 'euronychodon', 'europasaurus', 'europatitan', 'europelta', 'euskelosaurus', 'eustreptospondylus', 'fabrosaurus', 'falcarius', 'fendusaurus', 'ferganasaurus', 'ferganastegos', 'ferganocephale', 'frenguellisaurus', 'foraminacephale', 'fosterovenator', 'fruitadens', 'fukuiraptor', 'fukuisaurus', 'fukuititan', 'fukuivenator', 'fulengia', 'fulgurotherium', 'fusuisaurus', 'futalognkosaurus', 'galesaurus', 'gadolosaurus', 'galeamopus', 'galleonosaurus', 'gallimimus', 'galtonia', 'galveosaurus', 'galvesaurus', 'gannansaurus', 'ganzhousaurus', 'gargoyleosaurus', 'garudimimus', 'gasosaurus', 'gasparinisaura', 'gastonia', 'geminiraptor', 'genusaurus', 'genyodectes', 'geranosaurus', 'gideonmantellia', 'giganotosaurus', 'gigantoraptor', 'gigantosaurus', 'gigantoscelus', 'gigantspinosaurus', 'gilmoreosaurus', 'giraffatitan', 'glacialisaurus', 'glishades', 'glyptodontopelta', 'gobiceratops', 'gobipteryx', 'gobihadros', 'gobiraptor', 'gobisaurus', 'gobititan', 'gobivenator', 'gojirasaurus', 'gondwanatitan', 'gongbusaurus', 'gongpoquansaurus', 'gongxianosaurus', 'gorgosaurus', 'goyocephale', 'graciliceratops', 'graciliraptor', 'gracilisuchus', 'gravitholus', 'gresslyosaurus', 'griphornis', 'griphosaurus', 'gryphoceratops', 'gryponyx', 'gryposaurus', 'gspsaurus', 'guaibasaurus', 'gualicho', 'guanlong', 'gwyneddosaurus', 'gyposaurus', 'hadrosaurus', 'haestasaurus', 'hagryphus', 'hallopus', 'halszkaraptor', 'halticosaurus', 'hanssuesia', 'hanwulosaurus', 'haplocanthosaurus', 'haplocanthus', 'haplocheirus', 'harpymimus', 'haya', 'hecatasaurus', 'heilongjiangosaurus', 'heishansaurus', 'helioceratops', 'helopus', 'heptasteornis', 'herbstosaurus', 'herrerasaurus', 'hesperonychus', 'hesperornithoides', 'hesperosaurus', 'heterodontosaurus', 'heterosaurus', 'hexing', 'hexinlusaurus', 'heyuannia', 'hierosaurus', 'hikanodon', 'hippodraco', 'hironosaurus', 'hisanohamasaurus', 'histriasaurus', 'homalocephale', 'hongshanosaurus', 'hoplitosaurus', 'hoplosaurus', 'hortalotarsus', 'horshamosaurus', 'huabeisaurus', 'hualianceratops', 'huanansaurus', 'huanghetitan', 'huangshanlong', 'huaxiagnathus', 'huaxiaosaurus', 'huayangosaurus', 'hudiesaurus', 'huehuecanauhtlus', 'hulsanpes', 'hungarosaurus', 'huxleysaurus', 'hylaeosaurus', 'hylosaurus', 'hypacrosaurus', 'hypselorhachis', 'hypselosaurus', 'hypselospinus', 'hypsibema', 'hypsilophodon', 'hypsirophus', 'hypsirhophus', 'ichthyovenator', 'ignavusaurus', 'iguanacolossus', 'iguanodon', 'iliosuchus', 'ilokelesia', 'imperobator', 'incisivosaurus', 'indosaurus', 'indosuchus', 'ingenia', 'ingentia', 'inosaurus', 'invictarx', 'irritator', 'isaberrysaura', 'isanosaurus', 'ischisaurus', 'ischyrosaurus', 'ischioceratops', 'isisaurus', 'itapeuasaurus', 'itemirus', 'iuticosaurus', 'jainosaurus', 'jaklapallisaurus', 'janenschia', 'jaxartosaurus', 'jeholornis', 'jeholosaurus', 'jenghizkhan', 'jeyawati', 'jianchangosaurus', 'jiangjunosaurus', 'jiangshanosaurus', 'jiangxisaurus', 'jianianhualong', 'jinfengopteryx', 'jingshanosaurus', 'jintasaurus', 'jinyunpelta', 'jinzhousaurus', 'jiutaisaurus', 'jixiangornis', 'jobaria', 'jubbulpuria', 'judiceratops', 'jurapteryx', 'juratyrant', 'juravenator', 'kaatedocus', 'kagasaurus', 'kaijiangosaurus', 'kaijutitan', 'kakuru', 'kamuysaurus', 'kangnasaurus', 'karongasaurus', 'katepensaurus', 'kayentavenator', 'kazaklambia', 'kelmayisaurus', 'kemkemia', 'kentrosaurus', 'kentrurosaurus', 'kerberosaurus', 'khaan', 'khetranisaurus', 'kileskus', 'kinnareemimus', 'klamelisaurus', 'kol', 'koparion', 'koreaceratops', 'koreanosaurus', 'koshisaurus', 'kosmoceratops', 'kotasaurus', 'koutalisaurus', 'kritosaurus', 'kryptops', 'krzyzanowskisaurus', 'kukufeldia', 'kulceratops', 'kulindadromeus', 'kulindapteryx', 'kunbarrasaurus', 'kundurosaurus', 'kunmingosaurus', 'kuszholia', 'labocania', 'labrosaurus', 'laelaps', 'laevisuchus', 'lagerpeton', 'lagosuchus', 'lamaceratops', 'laiyangosaurus', 'lambeosaurus', 'lametasaurus', 'lamplughsaura', 'lanasaurus', 'lancanjiangosaurus', 'lanzhousaurus', 'laornis', 'laosaurus', 'lapampasaurus', 'laplatasaurus', 'lapparentosaurus', 'laquintasaura', 'latenivenatrix', 'latirhinus', 'lavocatisaurus', 'leaellynasaura', 'ledumahadi', 'leinkupal', 'leipsanosaurus', 'leonerasaurus', 'lepidus', 'leptoceratops', 'leptorhynchos', 'leptospondylus', 'leshansaurus', 'lesothosaurus', 'lessemsaurus', 'levnesovia', 'lewisuchus', 'lexovisaurus', 'leyesaurus', 'liaoceratops', 'liaoningosaurus', 'libycosaurus', 'liaoningotitan', 'liaoningvenator', 'ligabueino', 'ligabuesaurus', 'likhoelesaurus', 'liliensternus', 'limaysaurus', 'limnornis', 'limnosaurus', 'limusaurus', 'lingwulong', 'lingyuanosaurus', 'linhenykus', 'linheraptor', 'linhevenator', 'lirainosaurus', 'lisboasaurus', 'liubangosaurus', 'lohuecotitan', 'loncosaurus', 'longisquama', 'longosaurus', 'lophorhothon', 'lophostropheus', 'loricatosaurus', 'loricosaurus', 'losillasaurus', 'lourinhanosaurus', 'lourinhasaurus', 'luanchuanraptor', 'lucianosaurus', 'lucianovenator', 'lufengosaurus', 'lukousaurus', 'luoyanggia', 'lurdusaurus', 'lusitanosaurus', 'lusotitan', 'lycorhinus', 'lythronax', 'macelognathus', 'machairasaurus', 'macrodontophion', 'machairoceratops', 'macrocollum', 'macrogryphosaurus', 'macrophalangia', 'macrurosaurus', 'magnamanus', 'magnapaulia', 'magnirostris', 'magnosaurus', 'magulodon', 'magyarosaurus', 'mahakala_omnogovae', 'mahuidacursor', 'maiasaura', 'majungasaurus', 'majungatholus', 'malarguesaurus', 'malawisaurus', 'maleevosaurus', 'maleevus', 'mamenchisaurus', 'mandschurosaurus', 'manidens', 'manospondylus', 'mansourasaurus', 'mantellisaurus', 'mantellodon', 'mapusaurus', 'marasuchus', 'maraapunisaurus', 'marisaurus', 'marmarospondylus', 'marshosaurus', 'martharaptor', 'masiakasaurus', 'massospondylus', 'matheronodon', 'maxakalisaurus', 'medusaceratops', 'megadactylus', 'megacervixosaurus', 'megalosaurus', 'megapnosaurus', 'megaraptor', 'mei', 'melanorosaurus', 'mendozasaurus', 'mercuriceratops', 'meroktenos', 'metriacanthosaurus', 'microceratops', 'microcephale', 'microceratus', 'microcoelus', 'microdontosaurus', 'microhadrosaurus', 'micropachycephalosaurus', 'microraptor', 'microvenator', 'mierasaurus', 'mifunesaurus', 'minmi', 'minotaurasaurus', 'miragaia', 'mirischia', 'mnyamawamtuka', 'moabosaurus', 'mochlodon', 'mojoceratops', 'mongolosaurus', 'mongolostegus', 'monkonosaurus', 'monoclonius', 'monolophosaurus', 'mononychus', 'mononykus', 'montanoceratops', 'morelladon', 'morinosaurus', 'morosaurus', 'moros', 'morrosaurus', 'mosaiceratops', 'murusraptor', 'mussaurus', 'muttaburrasaurus', 'muyelensaurus', 'mymoorapelta', 'naashoibitosaurus', 'nambalia', 'nankangia', 'nanningosaurus', 'nanosaurus', 'nanotyrannus', 'nanshiungosaurus', 'nanuqsaurus', 'nanyangosaurus', 'narambuenatitan', 'nasutoceratops', 'natronasaurus', 'nebulasaurus', 'nectosaurus', 'nedcolbertia', 'nedoceratops', 'neimongosaurus', 'nemegtia', 'nemegtomaia', 'nemegtosaurus', 'neosaurus', 'neosodon', 'neovenator', 'neuquenraptor', 'neuquensaurus', 'ngexisaurus', 'ngwevu', 'nhandumirim', 'nicksaurus', 'nigersaurus', 'ningyuansaurus', 'niobrarasaurus', 'nipponosaurus', 'noasaurus', 'nodocephalosaurus', 'nodosaurus', 'nomingia', 'nopcsaspondylus', 'normanniasaurus', 'notatesseraeraptor', 'nothronychus', 'notoceratops', 'notocolossus', 'notohypsilophodon', 'nqwebasaurus', 'nurosaurus', 'nuthetes', 'nyasasaurus', 'oceanotitan', 'ohmdenosaurus', 'ojoceratops', 'ojoraptorsaurus', 'oligosaurus', 'olorotitan', 'omeisaurus', 'omnivoropteryx', 'omosaurus', 'onychosaurus', 'oohkotokia', 'opisthocoelicaudia', 'oplosaurus', 'orinosaurus', 'orcomimus', 'orkoraptor', 'ornatotholus', 'ornithodesmus', 'ornitholestes', 'ornithomerus', 'ornithomimoides', 'ornithomimus', 'ornithopsis', 'ornithosuchus', 'ornithotarsus', 'orodromeus', 'orosaurus', 'orthogoniosaurus', 'orthomerus', 'oryctodromeus', 'oshanosaurus', 'osmakasaurus', 'ostafrikasaurus', 'ostromia', 'othnielia', 'othnielosaurus', 'otogosaurus', 'ouranosaurus', 'overosaurus', 'oviraptor', 'owenodon', 'oxalaia', 'ozraptor', 'pachycephalosaurus', 'pachyrhinosaurus', 'pachysauriscus', 'pachysaurops', 'pachysaurus', 'pachyspondylus', 'pachysuchus', 'padillasaurus', 'pakisaurus', 'palaeoctonus', 'palaeocursornis', 'palaeopteryx', 'palaeosauriscus', 'palaeosaurus', 'palaeoscincus', 'paleosaurus', 'paludititan', 'paluxysaurus', 'pampadromaeus', 'pamparaptor', 'panamericansaurus', 'pandoravenator', 'panguraptor', 'panoplosaurus', 'panphagia', 'pantydraco', 'paralititan', 'paranthodon', 'pararhabdodon', 'parasaurolophus', 'pareiasaurus', 'pareisactus', 'parksosaurus', 'paronychodon', 'parrosaurus', 'parvicursor', 'patagonykus', 'patagosaurus', 'patagotitan', 'pawpawsaurus', 'pectinodon', 'pedopenna', 'pegomastax', 'peishansaurus', 'pekinosaurus', 'pelecanimimus', 'pellegrinisaurus', 'peloroplites', 'pelorosaurus', 'peltosaurus', 'penelopognathus', 'pentaceratops', 'petrobrasaurus', 'phaedrolosaurus', 'philovenator', 'phuwiangosaurus', 'phuwiangvenator', 'phyllodon', 'piatnitzkysaurus', 'picrodon', 'pilmatueia', 'pinacosaurus', 'pisanosaurus', 'pitekunsaurus', 'piveteausaurus', 'planicoxa', 'plateosauravus', 'plateosaurus', 'platyceratops', 'platypelta', 'plesiohadros', 'pleurocoelus', 'pleuropeltus', 'pneumatoarthrus', 'pneumatoraptor', 'podokesaurus', 'poekilopleuron', 'polacanthoides', 'polacanthus', 'polyodontosaurus', 'polyonax', 'ponerosteus', 'poposaurus', 'postosuchus', 'powellvenator', 'pradhania', 'prenocephale', 'prenoceratops', 'priconodon', 'priodontognathus', 'proa', 'probactrosaurus', 'proceratops', 'probrachylophosaurus', 'proceratosaurus', 'procerosaurus', 'procheneosaurus', 'procompsognathus', 'prodeinodon', 'propanoplosaurus', 'proplanicoxa', 'prosaurolophus', 'protarchaeopteryx', 'protecovasaurus', 'protiguanodon', 'protoavis', 'protoceratops', 'protognathosaurus', 'protognathus', 'protohadros', 'protorosaurus', 'pseudolagosuchus', 'psittacosaurus', 'pteropelyx', 'pterospondylus', 'puertasaurus', 'pukyongosaurus', 'pulanesaura', 'pycnonemosaurus', 'pyroraptor', 'qantassaurus', 'qianzhousaurus', 'qiaowanlong', 'qijianglong', 'qingxiusaurus', 'qinlingosaurus', 'qiupalong', 'qiupanykus', 'quaesitosaurus', 'quetecsaurus', 'quilmesaurus', 'rachitrema', 'rahiolisaurus', 'rahona', 'rahonavis', 'rajasaurus', 'rapator', 'rapetosaurus', 'raptorex', 'ratchasimasaurus', 'rativates', 'rayososaurus', 'razanandrongobe', 'rebbachisaurus', 'regaliceratops', 'regnosaurus', 'revueltosaurus', 'rhabdodon', 'rhadinosaurus', 'rhinorex', 'rhodanosaurus', 'rhoetosaurus', 'rhopalodon', 'riabininohadros', 'richardoestesia', 'rileya', 'rileyasuchus', 'rinchenia', 'rinconsaurus', 'rioarribasaurus', 'riojasaurus', 'riojasuchus', 'rocasaurus', 'ronaldoraptor', 'rubeosaurus', 'ruehleia', 'rugocaudia', 'rugops', 'rukwatitan', 'ruyangosaurus', 'sacisaurus', 'sahaliyania', 'saichania', 'saldamosaurus', 'saltasaurus', 'saltopus', 'saltriosaurus', 'saltriovenator', 'sanjuansaurus', 'sanpasaurus', 'santanaraptor', 'sarahsaurus', 'saraikimasoom', 'sarcolestes', 'sarcosaurus', 'sarmientosaurus', 'saturnalia', 'sauraechinodon', 'saurolophus', 'sauroniops', 'sauropelta', 'saurophaganax', 'saurophagus', 'sauroplites', 'sauroposeidon', 'saurornithoides', 'saurornitholestes', 'savannasaurus', 'scansoriopteryx', 'scaphonyx', 'scelidosaurus', 'scipionyx', 'sciurumimus', 'scleromochlus', 'scolosaurus', 'scutellosaurus', 'secernosaurus', 'sefapanosaurus', 'segisaurus', 'segnosaurus', 'seismosaurus', 'seitaad', 'sektensaurus', 'sellacoxa', 'sellosaurus', 'serendipaceratops', 'serikornis', 'shamosaurus', 'shanag', 'shanshanosaurus', 'shantungosaurus', 'shanxia', 'shanyangosaurus', 'shaochilong', 'shenzhouraptor', 'shenzhousaurus', 'shidaisaurus', 'shingopana', 'shishugounykus', 'shixinggia', 'shuangbaisaurus', 'shuangmiaosaurus', 'shunosaurus', 'shuvosaurus', 'shuvuuia', 'siamodon', 'siamodracon', 'siamosaurus', 'siamotyrannus', 'siats', 'sibirotitan', 'sidormimus', 'sigilmassasaurus', 'silesaurus', 'siluosaurus', 'silvisaurus', 'similicaudipteryx', 'sinocalliopteryx', 'sinoceratops', 'sinocoelurus', 'sinopeltosaurus', 'sinornithoides', 'sinornithomimus', 'sinornithosaurus', 'sinosauropteryx', 'sinosaurus', 'sinotyrannus', 'sinovenator', 'sinraptor', 'sinusonasus', 'sirindhorna', 'skorpiovenator', 'smilodon', 'sonidosaurus', 'sonorasaurus', 'soriatitan', 'soumyasaurus', 'sphaerotholus', 'sphenosaurus', 'sphenospondylus', 'spiclypeus', 'spinophorosaurus', 'spinops', 'spinosaurus', 'spinostropheus', 'spinosuchus', 'spondylosoma', 'squalodon', 'staurikosaurus', 'stegoceras', 'stegopelta', 'stegosaurides', 'stegosaurus', 'stenonychosaurus', 'stenopelix', 'stenotholus', 'stephanosaurus', 'stereocephalus', 'sterrholophus', 'stokesosaurus', 'stormbergia', 'strenusaurus', 'streptospondylus', 'struthiomimus', 'struthiosaurus', 'stygimoloch', 'stygivenator', 'styracosaurus', 'succinodon', 'suchomimus', 'suchosaurus', 'suchoprion', 'sugiyamasaurus', 'sulaimanisaurus', 'supersaurus', 'suskityrannus', 'suuwassea', 'suzhousaurus', 'symphyrophus', 'syngonosaurus', 'syntarsus', 'syrmosaurus', 'szechuanosaurus', 'tachiraptor', 'talarurus', 'talenkauen', 'talos', 'tambatitanis', 'tangvayosaurus', 'tanius', 'tanycolagreus', 'tanystropheus', 'tanystrosuchus', 'taohelong', 'tapinocephalus', 'tapuiasaurus', 'tarascosaurus', 'tarbosaurus', 'tarchia', 'tastavinsaurus', 'tatankacephalus', 'tatankaceratops', 'tataouinea', 'tatisaurus', 'taurovenator', 'taveirosaurus', 'tawa', 'tawasaurus', 'tazoudasaurus', 'technosaurus', 'tecovasaurus', 'tehuelchesaurus', 'teihivenator', 'teinurosaurus', 'telmatosaurus', 'tendaguria', 'tengrisaurus', 'tenontosaurus', 'teratophoneus', 'teratosaurus', 'termatosaurus', 'tethyshadros', 'tetragonosaurus', 'texacephale', 'texasetes', 'teyuwasu', 'thanos', 'thecocoelurus', 'thecodontosaurus', 'thecospondylus', 'theiophytalia', 'therizinosaurus', 'therosaurus', 'thescelosaurus', 'thespesius', 'thotobolosaurus', 'tianchisaurus', 'tianyulong', 'tianyuraptor', 'tianzhenosaurus', 'tichosteus', 'tienshanosaurus', 'timimus', 'timurlengia', 'titanoceratops', 'titanosaurus', 'tochisaurus', 'tomodon', 'tonganosaurus', 'torilion', 'tongtianlong', 'tonouchisaurus', 'tornieria', 'torosaurus', 'torvosaurus', 'tototlmimus', 'trachodon', 'tratayenia', 'traukutitan', 'trialestes', 'triassolestes', 'tribelesodon', 'triceratops', 'trigonosaurus', 'trimucrodon', 'trinisaura', 'triunfosaurus', 'troodon', 'tsaagan', 'tsagantegia', 'tsintaosaurus', 'tugulusaurus', 'tuojiangosaurus', 'turanoceratops', 'turiasaurus', 'tylocephale', 'tylosteus', 'tyrannosaurus', 'tyrannotitan', 'uberabatitan', 'udanoceratops', 'ugrosaurus', 'uintasaurus', 'ultrasauros', 'umarsaurus', 'unaysaurus', 'unenlagia', 'unescoceratops', 'unquillosaurus', 'urbacodon', 'utahceratops', 'utahraptor', 'uteodon', 'vagaceratops', 'vahiny', 'valdoraptor', 'valdosaurus', 'vallibonavenatrix', 'variraptor', 'vectensia', 'vectisaurus', 'vayuraptor', 'velafrons', 'velocipes', 'velociraptor', 'velocisaurus', 'venaticosuchus', 'venenosaurus', 'vespersaurus', 'veterupristisaurus', 'viavenator', 'vitakridrinda', 'vitakrisaurus', 'volgatitan', 'volkheimeria', 'vouivria', 'vulcanodon', 'wadhurstia', 'wakinosaurus', 'walgettosuchus', 'walkeria', 'wamweracaudia', 'wannanosaurus', 'wellnhoferia', 'weewarrasaurus', 'wendiceratops', 'wiehenvenator', 'willinakaqe', 'wintonotitan', 'wuerhosaurus', 'wulagasaurus', 'wulatelong', 'wyleyia', 'xenoceratops', 'xenoposeidon', 'xenotarsosaurus', 'xianshanosaurus', 'xiaosaurus', 'xiaotingia', 'xingtianosaurus', 'xingxiulong', 'xinjiangovenator', 'xinjiangtitan', 'xiongguanlong', 'xixianykus', 'xixiasaurus', 'xixiposaurus', 'xiyunykus', 'xuanhanosaurus', 'xuanhuaceratops', 'xuwulong', 'yaleosaurus', 'yamaceratops', 'yandusaurus', 'yangchuanosaurus', 'yanornis', 'yaverlandia', 'yehuecauhceratops', 'yi', 'yibinosaurus', 'yimenosaurus', 'yingshanosaurus', 'yinlong', 'yixianosaurus', 'yizhousaurus', 'yongjinglong', 'yuanmouraptor', 'yuanmousaurus', 'yueosaurus', 'yulong', 'yunganglong', 'yunmenglong', 'yunnanosaurus', 'yunxianosaurus', 'yurgovuchia', 'yutyrannus', 'zalmoxes', 'zanabazar', 'zanclodon', 'zapalasaurus', 'zapsalis', 'zaraapelta', 'zatomus', 'zby', 'zephyrosaurus', 'zhanghenglong', 'zhejiangosaurus', 'zhenyuanlong', 'zhongornis', 'zhongyuansaurus', 'zhongjianosaurus', 'zhuchengceratops', 'zhuchengosaurus', 'zhuchengtitan', 'zhuchengtyrannus', 'ziapelta', 'zigongosaurus', 'zizhongosaurus', 'zuniceratops', 'zuolong', 'zuoyunlong', 'zupaysaurus', 'zuul']\n",
            "['a', 'a', 'c', 'h', 'e', 'n', 'o', 's', 'a', 'u', 'r', 'u', 's']\n"
          ]
        }
      ]
    },
    {
      "cell_type": "code",
      "source": [
        "class RNN(nn.Module):\n",
        "    def __init__(self, input_size, hidden_size):\n",
        "        super(RNN, self).__init__()\n",
        "\n",
        "        self.hidden_size = hidden_size\n",
        "        self.input_size = input_size \n",
        "        self.output_size = input_size \n",
        "\n",
        "        self.i2h = nn.Linear(hidden_size + input_size, hidden_size)\n",
        "        self.h2o = nn.Linear(hidden_size, input_size)\n",
        "        self.sigmoid = nn.Sigmoid()\n",
        "\n",
        "    def forward(self, input, hidden):\n",
        "\n",
        "        input_hidd = torch.cat((input,hidden), dim=1)\n",
        "        hidden = self.i2h(input_hidd)\n",
        "        hidden = self.sigmoid(hidden)\n",
        "        output = self.h2o(hidden)\n",
        "        return hidden , output "
      ],
      "metadata": {
        "id": "iWW1obSnWRgm"
      },
      "execution_count": null,
      "outputs": []
    },
    {
      "cell_type": "code",
      "source": [
        "learning_rate = 0.001\n",
        "\n",
        "model = RNN(input_size=chars_size, hidden_size=100)\n",
        "criterion = nn.CrossEntropyLoss()\n",
        "optimizer = torch.optim.Adam(model.parameters(), lr=learning_rate)"
      ],
      "metadata": {
        "id": "UWGIMqydW_Qq"
      },
      "execution_count": null,
      "outputs": []
    },
    {
      "cell_type": "code",
      "source": [
        "no_of_epochs=30\n",
        "hidden_size=100\n",
        "loss=[]\n",
        "for i in range(no_of_epochs):\n",
        "    epoch_loss = 0\n",
        "    n = 0\n",
        "    for word in data:\n",
        "        letters=list(word)\n",
        "        hidden=torch.zeros([1,hidden_size])\n",
        "        outputs=torch.zeros([len(letters)+1,chars_size])\n",
        "        target=list()\n",
        "        for c in letters:\n",
        "          target.append(char_to_ix[c])\n",
        "        target.append(char_to_ix['_'])\n",
        "        target_tensor=torch.LongTensor(target)\n",
        "        outputs[0,char_to_ix[letters[0]]]=1\n",
        "        i=0\n",
        "        batch_loss=0\n",
        "        while(i<len(letters)):\n",
        "          input=torch.zeros([1,chars_size],dtype=torch.float)\n",
        "          input[0,char_to_ix[letters[i]]]=1\n",
        "          hidden,output=model(input,hidden)\n",
        "          outputs[i+1]=output\n",
        "          i+=1\n",
        "        batch_loss=criterion(outputs,target_tensor)\n",
        "        epoch_loss+=batch_loss\n",
        "        optimizer.zero_grad()\n",
        "        batch_loss.backward()\n",
        "        optimizer.step()\n",
        "        n+=1\n",
        "    epoch_loss=epoch_loss/n\n",
        "    print(epoch_loss.item())\n",
        "    loss.append(epoch_loss)"
      ],
      "metadata": {
        "colab": {
          "base_uri": "https://localhost:8080/"
        },
        "id": "JXOg74FEXW26",
        "outputId": "d585df27-f05c-45df-ba37-ff7beeb835d8"
      },
      "execution_count": null,
      "outputs": [
        {
          "output_type": "stream",
          "name": "stdout",
          "text": [
            "2.4331250190734863\n",
            "2.078227996826172\n",
            "1.9746249914169312\n",
            "1.915808081626892\n",
            "1.8788508176803589\n",
            "1.8495198488235474\n",
            "1.823352575302124\n",
            "1.7993096113204956\n",
            "1.7769618034362793\n",
            "1.7559654712677002\n",
            "1.73612380027771\n",
            "1.7173817157745361\n",
            "1.6998182535171509\n",
            "1.683495283126831\n",
            "1.6683977842330933\n",
            "1.6544103622436523\n",
            "1.6413779258728027\n",
            "1.6291431188583374\n",
            "1.6175756454467773\n",
            "1.6065741777420044\n",
            "1.5960588455200195\n",
            "1.5859698057174683\n",
            "1.5762498378753662\n",
            "1.5668529272079468\n",
            "1.5577256679534912\n",
            "1.5488296747207642\n",
            "1.5401270389556885\n",
            "1.5315827131271362\n",
            "1.5231664180755615\n",
            "1.5148528814315796\n"
          ]
        }
      ]
    },
    {
      "cell_type": "code",
      "source": [
        "model.eval()\n",
        "hidden_size = 100\n",
        "for letter in chars:\n",
        "    if(letter!=\"_\"):\n",
        "      print(letter,\"-\",end=\"\")\n",
        "      print(letter,end=\"\")\n",
        "      char = letter\n",
        "      input_idx = char_to_ix[char]\n",
        "      input = torch.zeros([1, chars_size], dtype=torch.float)\n",
        "      input[0, input_idx] = 1\n",
        "      \n",
        "\n",
        "      hidden = torch.zeros([1, hidden_size])\n",
        "      idx = torch.tensor(char_to_ix[letter])\n",
        "      i=0\n",
        "      while ix_to_char[idx.item()] != \"_\":\n",
        "          i+=1\n",
        "          hidden, output = model(input, hidden)\n",
        "          idx = output.argmax()\n",
        "          input = torch.zeros([1, chars_size], dtype=torch.float)\n",
        "          input[0, idx] = 1\n",
        "          if(ix_to_char[idx.item()]!=\"_\"):\n",
        "            print(ix_to_char[idx.item()],end=\"\")\n",
        "      print(\"\")"
      ],
      "metadata": {
        "id": "3Lt08NfYYUL_",
        "colab": {
          "base_uri": "https://localhost:8080/"
        },
        "outputId": "671d2cf7-b578-4f3c-f09a-6706dd260804"
      },
      "execution_count": null,
      "outputs": [
        {
          "output_type": "stream",
          "name": "stdout",
          "text": [
            "a -anganosaurus\n",
            "b -baranosaurus\n",
            "c -chanosaurus\n",
            "d -donganosaurus\n",
            "e -eoroptor\n",
            "f -fullosaurus\n",
            "g -gongosaurus\n",
            "h -huanosaurus\n",
            "i -ianosaurus\n",
            "j -jianosaurus\n",
            "k -kolosaurus\n",
            "l -longosaurus\n",
            "m -marosaurus\n",
            "n -nonosaurus\n",
            "o -ornitholus\n",
            "p -palarosaurus\n",
            "q -quanosaurus\n",
            "r -raptosaurus\n",
            "s -saurosaurus\n",
            "t -talanosaurus\n",
            "u -uranosaurus\n",
            "v -velonosaurus\n",
            "w -wallosaurus\n",
            "x -xianosaurus\n",
            "y -yunosaurus\n",
            "z -zhunosaurus\n"
          ]
        }
      ]
    }
  ]
}