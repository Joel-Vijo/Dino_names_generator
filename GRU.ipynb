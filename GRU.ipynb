{
  "nbformat": 4,
  "nbformat_minor": 0,
  "metadata": {
    "colab": {
      "name": "GRU.ipynb",
      "provenance": [],
      "collapsed_sections": [],
      "authorship_tag": "ABX9TyPKiDYg1TMI7isjIMdzVDz9",
      "include_colab_link": true
    },
    "kernelspec": {
      "name": "python3",
      "display_name": "Python 3"
    },
    "language_info": {
      "name": "python"
    }
  },
  "cells": [
    {
      "cell_type": "markdown",
      "metadata": {
        "id": "view-in-github",
        "colab_type": "text"
      },
      "source": [
        "<a href=\"https://colab.research.google.com/github/Joel-Vijo/Dino_names_generator/blob/main/GRU.ipynb\" target=\"_parent\"><img src=\"https://colab.research.google.com/assets/colab-badge.svg\" alt=\"Open In Colab\"/></a>"
      ]
    },
    {
      "cell_type": "code",
      "execution_count": null,
      "metadata": {
        "id": "qTxXlVTCSfVP"
      },
      "outputs": [],
      "source": [
        "import torch \n",
        "import torch.nn as nn\n",
        "import numpy as np\n",
        "import random\n",
        "import matplotlib.pyplot  as plt"
      ]
    },
    {
      "cell_type": "code",
      "source": [
        "data = open('dinosaurs.csv', 'r').read() \n",
        "data = data.lower()\n",
        "chars = list(set(data))\n",
        "chars.remove('\\n')\n",
        "chars.sort()\n",
        "print(chars)\n",
        "data_size, chars_size = len(data), len(chars)\n",
        "\n",
        "print(\"data size= \" ,data_size)\n",
        "print(\"no of unique chars = \" ,chars_size)\n",
        "\n",
        "char_to_ix = {ch:i for i,ch in enumerate(chars)}   \n",
        "ix_to_char = {i:ch for i,ch in enumerate(chars)}    \n",
        "data = data.split('\\n')\n",
        "print(data)\n",
        "print(list(data[0]))\n",
        "random.shuffle(data)"
      ],
      "metadata": {
        "colab": {
          "base_uri": "https://localhost:8080/"
        },
        "id": "WeHP7-L5TFwX",
        "outputId": "2750d7e5-9d72-4bf6-9b57-fd923eda656a"
      },
      "execution_count": null,
      "outputs": [
        {
          "output_type": "stream",
          "name": "stdout",
          "text": [
            "['_', 'a', 'b', 'c', 'd', 'e', 'f', 'g', 'h', 'i', 'j', 'k', 'l', 'm', 'n', 'o', 'p', 'q', 'r', 's', 't', 'u', 'v', 'w', 'x', 'y', 'z']\n",
            "data size=  19656\n",
            "no of unique chars =  27\n",
            "['aachenosaurus', 'aardonyx', 'abelisaurus', 'abrictosaurus', 'abrosaurus', 'abydosaurus', 'acantholipan', 'acanthopholis', 'achelousaurus', 'acheroraptor', 'achillesaurus', 'achillobator', 'acristavus', 'acrocanthosaurus', 'acrotholus', 'actiosaurus', 'adamantisaurus', 'adasaurus', 'adelolophus', 'adeopapposaurus', 'adratiklit', 'adynomosaurus', 'aegyptosaurus', 'aeolosaurus', 'aepisaurus', 'aepyornithomimus', 'aerosteon', 'afromimus', 'aetonyx', 'afrovenator', 'agathaumas', 'aggiosaurus', 'agilisaurus', 'agnosphitys', 'agrosaurus', 'agujaceratops', 'agustinia', 'ahshislepelta', 'airakoraptor', 'ajancingenia', 'ajkaceratops', 'akainacephalus', 'alamosaurus', 'alaskacephale', 'albalophosaurus', 'albertaceratops', 'albertadromeus', 'albertavenator', 'albertonykus', 'albertosaurus', 'albinykus', 'alcovasaurus', 'albisaurus', 'alectrosaurus', 'aletopelta', 'algoasaurus', 'alioramus', 'aliwalia', 'allosaurus', 'almas', 'alnashetri', 'alocodon', 'altirhinus', 'altispinax', 'alvarezsaurus', 'alwalkeria', 'alxasaurus', 'amargasaurus', 'amargastegos', 'amargatitanis', 'amazonsaurus', 'ammosaurus', 'ambopteryx', 'ampelosaurus', 'amphicoelias', 'amphisaurus', 'amtocephale', 'amtosaurus', 'amurosaurus', 'amygdalodon', 'anabisetia', 'anasazisaurus', 'anatosaurus', 'anatotitan', 'anchiceratops', 'anchiornis', 'anchisaurus', 'andesaurus', 'andhrasaurus', 'angaturama', 'angloposeidon', 'angolatitan', 'angulomastacator', 'anhuilong', 'aniksosaurus', 'animantarx', 'ankistrodon', 'ankylosaurus', 'anodontosaurus', 'anomalipes', 'anoplosaurus', 'anserimimus', 'antarctopelta', 'antarctosaurus', 'antetonitrus', 'anthodon', 'antrodemus', 'anzu', 'aoniraptor', 'aorun', 'apatodon', 'apatoraptor', 'apatosaurus', 'appalachiosaurus', 'aquilarhinus', 'aquilops', 'aragosaurus', 'aralosaurus', 'archaeoceratops', 'archaeodontosaurus', 'archaeopteryx', 'archaeornis', 'archaeornithoides', 'archaeornithomimus', 'archaeovolans', 'arcovenator', 'arctosaurus', 'arcusaurus', 'arenysaurus', 'argentinosaurus', 'argyrosaurus', 'aristosaurus', 'aristosuchus', 'arizonasaurus', 'arkansaurus', 'arkharavia', 'arrhinoceratops', 'arstanosaurus', 'asiaceratops', 'asiamericana', 'asiatosaurus', 'astrodon', 'astrodonius', 'astrodontaurus', 'astrophocaudia', 'asylosaurus', 'atacamatitan', 'atlantosaurus', 'atlasaurus', 'atlascopcosaurus', 'atrociraptor', 'atsinganosaurus', 'aublysodon', 'aucasaurus', 'augustia', 'augustynolophus', 'auroraceratops', 'aurornis', 'australodocus', 'australovenator', 'austrocheirus', 'austroposeidon', 'austroraptor', 'austrosaurus', 'avaceratops', 'avalonia', 'avalonianus', 'aviatyrannis', 'avimimus', 'avipes', 'avisaurus', 'azendohsaurus', 'baalsaurus', 'bactrosaurus', 'bagaceratops', 'bagaraatan', 'bagualosaurus', 'bahariasaurus', 'bainoceratops', 'bajadasaurus', 'bakesaurus', 'balaur', 'balochisaurus', 'bambiraptor', 'banji', 'bannykus', 'baotianmansaurus', 'barapasaurus', 'barilium', 'barosaurus', 'barrosasaurus', 'barsboldia', 'baryonyx', 'basutodon', 'bathygnathus', 'bashunosaurus', 'batyrosaurus', 'baurutitan', 'becklespinax', 'bayannurosaurus', 'bayosaurus', 'beelemodon', 'beibeilong', 'beipiaognathus', 'beipiaosaurus', 'beishanlong', 'bellusaurus', 'belodon', 'berberosaurus', 'betasuchus', 'bicentenaria', 'bienosaurus', 'bihariosaurus', 'bissektipelta', 'bistahieversor', 'blasisaurus', 'blikanasaurus', 'bolong', 'bonapartenykus', 'bonapartesaurus', 'bonatitan', 'bonitasaura', 'borealopelta', 'borealosaurus', 'boreonykus', 'borogovia', 'bothriospondylus', 'brachiosaurus', 'brachyceratops', 'brachylophosaurus', 'brachypodosaurus', 'brachyrophus', 'brachytaenius', 'brachytrachelopan', 'bradycneme', 'brasileosaurus', 'brasilotitan', 'bravoceratops', 'breviceratops', 'brohisaurus', 'brontomerus', 'brontosaurus', 'bruhathkayosaurus', 'bugenasaura', 'buitreraptor', 'burianosaurus', 'buriolestes', 'byronosaurus', 'caenagnathasia', 'caenagnathus', 'caihong', 'calamosaurus', 'calamospondylus', 'callovosaurus', 'camarasaurus', 'camarillasaurus', 'camelotia', 'camposaurus', 'camptonotus', 'camptosaurus', 'campylodon', 'campylodoniscus', 'canardia', 'capitalsaurus', 'carcharodontosaurus', 'cardiodon', 'carnotaurus', 'caseosaurus', 'cathartesaura', 'cathetosaurus', 'caudipteryx', 'caudocoelus', 'caulodon', 'cedarosaurus', 'cedarpelta', 'cedrorestes', 'centemodon', 'centrosaurus', 'cerasinops', 'ceratonykus', 'ceratops', 'ceratosaurus', 'cetiosauriscus', 'cetiosaurus', 'changchunsaurus', 'changdusaurus', 'changyuraptor', 'chaoyangsaurus', 'charonosaurus', 'chasmosaurus', 'chassternbergia', 'chebsaurus', 'cheneosaurus', 'chenanisaurus', 'chialingosaurus', 'chiayusaurus', 'chienkosaurus', 'chilantaisaurus', 'chilesaurus', 'chindesaurus', 'chingkankousaurus', 'chinshakiangosaurus', 'chirostenotes', 'choconsaurus', 'chondrosteosaurus', 'choyrodon', 'chromogisaurus', 'chuandongocoelurus', 'chuanjiesaurus', 'chuanqilong', 'chubutisaurus', 'chungkingosaurus', 'chuxiongosaurus', 'cinizasaurus', 'cionodon', 'citipati', 'cladeiodon', 'claorhynchus', 'claosaurus', 'clarencea', 'clasmodosaurus', 'clepsysaurus', 'coahuilaceratops', 'coelophysis', 'coelosaurus', 'coeluroides', 'coelurosauravus', 'coelurus', 'colepiocephale', 'colonosaurus', 'coloradia', 'coloradisaurus', 'comahuesaurus', 'comanchesaurus', 'compsognathus', 'compsosuchus', 'concavenator', 'conchoraptor', 'condorraptor', 'convolosaurus', 'coronosaurus', 'corythoraptor', 'corythosaurus', 'craspedodon', 'crataeomus', 'craterosaurus', 'creosaurus', 'crichtonpelta', 'crichtonsaurus', 'cristatusaurus', 'crosbysaurus', 'crittendenceratops', 'cruxicheiros', 'cryolophosaurus', 'cryptodraco', 'cryptoraptor', 'cryptosaurus', 'cryptovolans', 'cumnoria', 'daanosaurus', 'dacentrurus', 'dachongosaurus', 'daemonosaurus', 'dahalokely', 'dakosaurus', 'dakotadon', 'dalianraptor', 'dakotaraptor', 'daliansaurus', 'damalasaurus', 'dandakosaurus', 'danubiosaurus', 'darwinsaurus', 'dashanpusaurus', 'daspletosaurus', 'dasygnathoides', 'dasygnathus', 'datanglong', 'datonglong', 'datousaurus', 'daurosaurus', 'daxiatitan', 'deinocheirus', 'deinodon', 'deinonychus', 'delapparentia', 'deltadromeus', 'demandasaurus', 'denversaurus', 'deuterosaurus', 'diabloceratops', 'diamantinasaurus', 'dianchungosaurus', 'diceratops', 'diceratus', 'diclonius', 'dicraeosaurus', 'didanodon', 'dilong', 'dilophosaurus', 'dimodosaurus', 'dinheirosaurus', 'diluvicursor', 'dinodocus', 'dinosaurus', 'dinotyrannus', 'diplodocus', 'diplotomodon', 'diracodon', 'dolichosuchus', 'dollodon', 'dongbeititan', 'dongyangopelta', 'dongyangosaurus', 'doratodon', 'doryphorosaurus', 'draconyx', 'dracopelta', 'dracorex', 'dracoraptor', 'dracovenator', 'dravidosaurus', 'dreadnoughtus', 'drinker_nisti', 'dromaeosauroides', 'dromaeosaurus', 'dromiceiomimus', 'dromicosaurus', 'drusilasaura', 'dryosaurus', 'dryptosauroides', 'dryptosaurus', 'dubreuillosaurus', 'duriatitan', 'duriavenator', 'dynamosaurus', 'dynamoterror', 'dyoplosaurus', 'dysalotosaurus', 'dysganus', 'dyslocosaurus', 'dystrophaeus', 'dystylosaurus', 'echinodon', 'edmarka', 'edmontonia', 'edmontosaurus', 'efraasia', 'einiosaurus', 'ekrixinatosaurus', 'elachistosuchus', 'elaltitan', 'elaphrosaurus', 'elmisaurus', 'elopteryx', 'elosaurus', 'elrhazosaurus', 'emausaurus', 'embasaurus', 'enigmosaurus', 'eoabelisaurus', 'eobrontosaurus', 'eocarcharia', 'eoceratops', 'eocursor', 'eodromaeus', 'eolambia', 'eomamenchisaurus', 'eoplophysis', 'eoraptor', 'eosinopteryx', 'eotrachodon', 'eotriceratops', 'eotyrannus', 'eousdryosaurus', 'epachthosaurus', 'epanterias', 'epicampodon', 'epichirostenotes', 'epidendrosaurus', 'epidexipteryx', 'equijubus', 'erectopus', 'erketu', 'erliansaurus', 'erlikosaurus', 'eshanosaurus', 'eucamerotus', 'eucentrosaurus', 'eucercosaurus', 'eucnemesaurus', 'eucoelophysis', 'eugongbusaurus', 'euhelopus', 'euoplocephalus', 'eupodosaurus', 'eurolimnornis', 'euronychodon', 'europasaurus', 'europatitan', 'europelta', 'euskelosaurus', 'eustreptospondylus', 'fabrosaurus', 'falcarius', 'fendusaurus', 'ferganasaurus', 'ferganastegos', 'ferganocephale', 'frenguellisaurus', 'foraminacephale', 'fosterovenator', 'fruitadens', 'fukuiraptor', 'fukuisaurus', 'fukuititan', 'fukuivenator', 'fulengia', 'fulgurotherium', 'fusuisaurus', 'futalognkosaurus', 'galesaurus', 'gadolosaurus', 'galeamopus', 'galleonosaurus', 'gallimimus', 'galtonia', 'galveosaurus', 'galvesaurus', 'gannansaurus', 'ganzhousaurus', 'gargoyleosaurus', 'garudimimus', 'gasosaurus', 'gasparinisaura', 'gastonia', 'geminiraptor', 'genusaurus', 'genyodectes', 'geranosaurus', 'gideonmantellia', 'giganotosaurus', 'gigantoraptor', 'gigantosaurus', 'gigantoscelus', 'gigantspinosaurus', 'gilmoreosaurus', 'giraffatitan', 'glacialisaurus', 'glishades', 'glyptodontopelta', 'gobiceratops', 'gobipteryx', 'gobihadros', 'gobiraptor', 'gobisaurus', 'gobititan', 'gobivenator', 'gojirasaurus', 'gondwanatitan', 'gongbusaurus', 'gongpoquansaurus', 'gongxianosaurus', 'gorgosaurus', 'goyocephale', 'graciliceratops', 'graciliraptor', 'gracilisuchus', 'gravitholus', 'gresslyosaurus', 'griphornis', 'griphosaurus', 'gryphoceratops', 'gryponyx', 'gryposaurus', 'gspsaurus', 'guaibasaurus', 'gualicho', 'guanlong', 'gwyneddosaurus', 'gyposaurus', 'hadrosaurus', 'haestasaurus', 'hagryphus', 'hallopus', 'halszkaraptor', 'halticosaurus', 'hanssuesia', 'hanwulosaurus', 'haplocanthosaurus', 'haplocanthus', 'haplocheirus', 'harpymimus', 'haya', 'hecatasaurus', 'heilongjiangosaurus', 'heishansaurus', 'helioceratops', 'helopus', 'heptasteornis', 'herbstosaurus', 'herrerasaurus', 'hesperonychus', 'hesperornithoides', 'hesperosaurus', 'heterodontosaurus', 'heterosaurus', 'hexing', 'hexinlusaurus', 'heyuannia', 'hierosaurus', 'hikanodon', 'hippodraco', 'hironosaurus', 'hisanohamasaurus', 'histriasaurus', 'homalocephale', 'hongshanosaurus', 'hoplitosaurus', 'hoplosaurus', 'hortalotarsus', 'horshamosaurus', 'huabeisaurus', 'hualianceratops', 'huanansaurus', 'huanghetitan', 'huangshanlong', 'huaxiagnathus', 'huaxiaosaurus', 'huayangosaurus', 'hudiesaurus', 'huehuecanauhtlus', 'hulsanpes', 'hungarosaurus', 'huxleysaurus', 'hylaeosaurus', 'hylosaurus', 'hypacrosaurus', 'hypselorhachis', 'hypselosaurus', 'hypselospinus', 'hypsibema', 'hypsilophodon', 'hypsirophus', 'hypsirhophus', 'ichthyovenator', 'ignavusaurus', 'iguanacolossus', 'iguanodon', 'iliosuchus', 'ilokelesia', 'imperobator', 'incisivosaurus', 'indosaurus', 'indosuchus', 'ingenia', 'ingentia', 'inosaurus', 'invictarx', 'irritator', 'isaberrysaura', 'isanosaurus', 'ischisaurus', 'ischyrosaurus', 'ischioceratops', 'isisaurus', 'itapeuasaurus', 'itemirus', 'iuticosaurus', 'jainosaurus', 'jaklapallisaurus', 'janenschia', 'jaxartosaurus', 'jeholornis', 'jeholosaurus', 'jenghizkhan', 'jeyawati', 'jianchangosaurus', 'jiangjunosaurus', 'jiangshanosaurus', 'jiangxisaurus', 'jianianhualong', 'jinfengopteryx', 'jingshanosaurus', 'jintasaurus', 'jinyunpelta', 'jinzhousaurus', 'jiutaisaurus', 'jixiangornis', 'jobaria', 'jubbulpuria', 'judiceratops', 'jurapteryx', 'juratyrant', 'juravenator', 'kaatedocus', 'kagasaurus', 'kaijiangosaurus', 'kaijutitan', 'kakuru', 'kamuysaurus', 'kangnasaurus', 'karongasaurus', 'katepensaurus', 'kayentavenator', 'kazaklambia', 'kelmayisaurus', 'kemkemia', 'kentrosaurus', 'kentrurosaurus', 'kerberosaurus', 'khaan', 'khetranisaurus', 'kileskus', 'kinnareemimus', 'klamelisaurus', 'kol', 'koparion', 'koreaceratops', 'koreanosaurus', 'koshisaurus', 'kosmoceratops', 'kotasaurus', 'koutalisaurus', 'kritosaurus', 'kryptops', 'krzyzanowskisaurus', 'kukufeldia', 'kulceratops', 'kulindadromeus', 'kulindapteryx', 'kunbarrasaurus', 'kundurosaurus', 'kunmingosaurus', 'kuszholia', 'labocania', 'labrosaurus', 'laelaps', 'laevisuchus', 'lagerpeton', 'lagosuchus', 'lamaceratops', 'laiyangosaurus', 'lambeosaurus', 'lametasaurus', 'lamplughsaura', 'lanasaurus', 'lancanjiangosaurus', 'lanzhousaurus', 'laornis', 'laosaurus', 'lapampasaurus', 'laplatasaurus', 'lapparentosaurus', 'laquintasaura', 'latenivenatrix', 'latirhinus', 'lavocatisaurus', 'leaellynasaura', 'ledumahadi', 'leinkupal', 'leipsanosaurus', 'leonerasaurus', 'lepidus', 'leptoceratops', 'leptorhynchos', 'leptospondylus', 'leshansaurus', 'lesothosaurus', 'lessemsaurus', 'levnesovia', 'lewisuchus', 'lexovisaurus', 'leyesaurus', 'liaoceratops', 'liaoningosaurus', 'libycosaurus', 'liaoningotitan', 'liaoningvenator', 'ligabueino', 'ligabuesaurus', 'likhoelesaurus', 'liliensternus', 'limaysaurus', 'limnornis', 'limnosaurus', 'limusaurus', 'lingwulong', 'lingyuanosaurus', 'linhenykus', 'linheraptor', 'linhevenator', 'lirainosaurus', 'lisboasaurus', 'liubangosaurus', 'lohuecotitan', 'loncosaurus', 'longisquama', 'longosaurus', 'lophorhothon', 'lophostropheus', 'loricatosaurus', 'loricosaurus', 'losillasaurus', 'lourinhanosaurus', 'lourinhasaurus', 'luanchuanraptor', 'lucianosaurus', 'lucianovenator', 'lufengosaurus', 'lukousaurus', 'luoyanggia', 'lurdusaurus', 'lusitanosaurus', 'lusotitan', 'lycorhinus', 'lythronax', 'macelognathus', 'machairasaurus', 'macrodontophion', 'machairoceratops', 'macrocollum', 'macrogryphosaurus', 'macrophalangia', 'macrurosaurus', 'magnamanus', 'magnapaulia', 'magnirostris', 'magnosaurus', 'magulodon', 'magyarosaurus', 'mahakala_omnogovae', 'mahuidacursor', 'maiasaura', 'majungasaurus', 'majungatholus', 'malarguesaurus', 'malawisaurus', 'maleevosaurus', 'maleevus', 'mamenchisaurus', 'mandschurosaurus', 'manidens', 'manospondylus', 'mansourasaurus', 'mantellisaurus', 'mantellodon', 'mapusaurus', 'marasuchus', 'maraapunisaurus', 'marisaurus', 'marmarospondylus', 'marshosaurus', 'martharaptor', 'masiakasaurus', 'massospondylus', 'matheronodon', 'maxakalisaurus', 'medusaceratops', 'megadactylus', 'megacervixosaurus', 'megalosaurus', 'megapnosaurus', 'megaraptor', 'mei', 'melanorosaurus', 'mendozasaurus', 'mercuriceratops', 'meroktenos', 'metriacanthosaurus', 'microceratops', 'microcephale', 'microceratus', 'microcoelus', 'microdontosaurus', 'microhadrosaurus', 'micropachycephalosaurus', 'microraptor', 'microvenator', 'mierasaurus', 'mifunesaurus', 'minmi', 'minotaurasaurus', 'miragaia', 'mirischia', 'mnyamawamtuka', 'moabosaurus', 'mochlodon', 'mojoceratops', 'mongolosaurus', 'mongolostegus', 'monkonosaurus', 'monoclonius', 'monolophosaurus', 'mononychus', 'mononykus', 'montanoceratops', 'morelladon', 'morinosaurus', 'morosaurus', 'moros', 'morrosaurus', 'mosaiceratops', 'murusraptor', 'mussaurus', 'muttaburrasaurus', 'muyelensaurus', 'mymoorapelta', 'naashoibitosaurus', 'nambalia', 'nankangia', 'nanningosaurus', 'nanosaurus', 'nanotyrannus', 'nanshiungosaurus', 'nanuqsaurus', 'nanyangosaurus', 'narambuenatitan', 'nasutoceratops', 'natronasaurus', 'nebulasaurus', 'nectosaurus', 'nedcolbertia', 'nedoceratops', 'neimongosaurus', 'nemegtia', 'nemegtomaia', 'nemegtosaurus', 'neosaurus', 'neosodon', 'neovenator', 'neuquenraptor', 'neuquensaurus', 'ngexisaurus', 'ngwevu', 'nhandumirim', 'nicksaurus', 'nigersaurus', 'ningyuansaurus', 'niobrarasaurus', 'nipponosaurus', 'noasaurus', 'nodocephalosaurus', 'nodosaurus', 'nomingia', 'nopcsaspondylus', 'normanniasaurus', 'notatesseraeraptor', 'nothronychus', 'notoceratops', 'notocolossus', 'notohypsilophodon', 'nqwebasaurus', 'nurosaurus', 'nuthetes', 'nyasasaurus', 'oceanotitan', 'ohmdenosaurus', 'ojoceratops', 'ojoraptorsaurus', 'oligosaurus', 'olorotitan', 'omeisaurus', 'omnivoropteryx', 'omosaurus', 'onychosaurus', 'oohkotokia', 'opisthocoelicaudia', 'oplosaurus', 'orinosaurus', 'orcomimus', 'orkoraptor', 'ornatotholus', 'ornithodesmus', 'ornitholestes', 'ornithomerus', 'ornithomimoides', 'ornithomimus', 'ornithopsis', 'ornithosuchus', 'ornithotarsus', 'orodromeus', 'orosaurus', 'orthogoniosaurus', 'orthomerus', 'oryctodromeus', 'oshanosaurus', 'osmakasaurus', 'ostafrikasaurus', 'ostromia', 'othnielia', 'othnielosaurus', 'otogosaurus', 'ouranosaurus', 'overosaurus', 'oviraptor', 'owenodon', 'oxalaia', 'ozraptor', 'pachycephalosaurus', 'pachyrhinosaurus', 'pachysauriscus', 'pachysaurops', 'pachysaurus', 'pachyspondylus', 'pachysuchus', 'padillasaurus', 'pakisaurus', 'palaeoctonus', 'palaeocursornis', 'palaeopteryx', 'palaeosauriscus', 'palaeosaurus', 'palaeoscincus', 'paleosaurus', 'paludititan', 'paluxysaurus', 'pampadromaeus', 'pamparaptor', 'panamericansaurus', 'pandoravenator', 'panguraptor', 'panoplosaurus', 'panphagia', 'pantydraco', 'paralititan', 'paranthodon', 'pararhabdodon', 'parasaurolophus', 'pareiasaurus', 'pareisactus', 'parksosaurus', 'paronychodon', 'parrosaurus', 'parvicursor', 'patagonykus', 'patagosaurus', 'patagotitan', 'pawpawsaurus', 'pectinodon', 'pedopenna', 'pegomastax', 'peishansaurus', 'pekinosaurus', 'pelecanimimus', 'pellegrinisaurus', 'peloroplites', 'pelorosaurus', 'peltosaurus', 'penelopognathus', 'pentaceratops', 'petrobrasaurus', 'phaedrolosaurus', 'philovenator', 'phuwiangosaurus', 'phuwiangvenator', 'phyllodon', 'piatnitzkysaurus', 'picrodon', 'pilmatueia', 'pinacosaurus', 'pisanosaurus', 'pitekunsaurus', 'piveteausaurus', 'planicoxa', 'plateosauravus', 'plateosaurus', 'platyceratops', 'platypelta', 'plesiohadros', 'pleurocoelus', 'pleuropeltus', 'pneumatoarthrus', 'pneumatoraptor', 'podokesaurus', 'poekilopleuron', 'polacanthoides', 'polacanthus', 'polyodontosaurus', 'polyonax', 'ponerosteus', 'poposaurus', 'postosuchus', 'powellvenator', 'pradhania', 'prenocephale', 'prenoceratops', 'priconodon', 'priodontognathus', 'proa', 'probactrosaurus', 'proceratops', 'probrachylophosaurus', 'proceratosaurus', 'procerosaurus', 'procheneosaurus', 'procompsognathus', 'prodeinodon', 'propanoplosaurus', 'proplanicoxa', 'prosaurolophus', 'protarchaeopteryx', 'protecovasaurus', 'protiguanodon', 'protoavis', 'protoceratops', 'protognathosaurus', 'protognathus', 'protohadros', 'protorosaurus', 'pseudolagosuchus', 'psittacosaurus', 'pteropelyx', 'pterospondylus', 'puertasaurus', 'pukyongosaurus', 'pulanesaura', 'pycnonemosaurus', 'pyroraptor', 'qantassaurus', 'qianzhousaurus', 'qiaowanlong', 'qijianglong', 'qingxiusaurus', 'qinlingosaurus', 'qiupalong', 'qiupanykus', 'quaesitosaurus', 'quetecsaurus', 'quilmesaurus', 'rachitrema', 'rahiolisaurus', 'rahona', 'rahonavis', 'rajasaurus', 'rapator', 'rapetosaurus', 'raptorex', 'ratchasimasaurus', 'rativates', 'rayososaurus', 'razanandrongobe', 'rebbachisaurus', 'regaliceratops', 'regnosaurus', 'revueltosaurus', 'rhabdodon', 'rhadinosaurus', 'rhinorex', 'rhodanosaurus', 'rhoetosaurus', 'rhopalodon', 'riabininohadros', 'richardoestesia', 'rileya', 'rileyasuchus', 'rinchenia', 'rinconsaurus', 'rioarribasaurus', 'riojasaurus', 'riojasuchus', 'rocasaurus', 'ronaldoraptor', 'rubeosaurus', 'ruehleia', 'rugocaudia', 'rugops', 'rukwatitan', 'ruyangosaurus', 'sacisaurus', 'sahaliyania', 'saichania', 'saldamosaurus', 'saltasaurus', 'saltopus', 'saltriosaurus', 'saltriovenator', 'sanjuansaurus', 'sanpasaurus', 'santanaraptor', 'sarahsaurus', 'saraikimasoom', 'sarcolestes', 'sarcosaurus', 'sarmientosaurus', 'saturnalia', 'sauraechinodon', 'saurolophus', 'sauroniops', 'sauropelta', 'saurophaganax', 'saurophagus', 'sauroplites', 'sauroposeidon', 'saurornithoides', 'saurornitholestes', 'savannasaurus', 'scansoriopteryx', 'scaphonyx', 'scelidosaurus', 'scipionyx', 'sciurumimus', 'scleromochlus', 'scolosaurus', 'scutellosaurus', 'secernosaurus', 'sefapanosaurus', 'segisaurus', 'segnosaurus', 'seismosaurus', 'seitaad', 'sektensaurus', 'sellacoxa', 'sellosaurus', 'serendipaceratops', 'serikornis', 'shamosaurus', 'shanag', 'shanshanosaurus', 'shantungosaurus', 'shanxia', 'shanyangosaurus', 'shaochilong', 'shenzhouraptor', 'shenzhousaurus', 'shidaisaurus', 'shingopana', 'shishugounykus', 'shixinggia', 'shuangbaisaurus', 'shuangmiaosaurus', 'shunosaurus', 'shuvosaurus', 'shuvuuia', 'siamodon', 'siamodracon', 'siamosaurus', 'siamotyrannus', 'siats', 'sibirotitan', 'sidormimus', 'sigilmassasaurus', 'silesaurus', 'siluosaurus', 'silvisaurus', 'similicaudipteryx', 'sinocalliopteryx', 'sinoceratops', 'sinocoelurus', 'sinopeltosaurus', 'sinornithoides', 'sinornithomimus', 'sinornithosaurus', 'sinosauropteryx', 'sinosaurus', 'sinotyrannus', 'sinovenator', 'sinraptor', 'sinusonasus', 'sirindhorna', 'skorpiovenator', 'smilodon', 'sonidosaurus', 'sonorasaurus', 'soriatitan', 'soumyasaurus', 'sphaerotholus', 'sphenosaurus', 'sphenospondylus', 'spiclypeus', 'spinophorosaurus', 'spinops', 'spinosaurus', 'spinostropheus', 'spinosuchus', 'spondylosoma', 'squalodon', 'staurikosaurus', 'stegoceras', 'stegopelta', 'stegosaurides', 'stegosaurus', 'stenonychosaurus', 'stenopelix', 'stenotholus', 'stephanosaurus', 'stereocephalus', 'sterrholophus', 'stokesosaurus', 'stormbergia', 'strenusaurus', 'streptospondylus', 'struthiomimus', 'struthiosaurus', 'stygimoloch', 'stygivenator', 'styracosaurus', 'succinodon', 'suchomimus', 'suchosaurus', 'suchoprion', 'sugiyamasaurus', 'sulaimanisaurus', 'supersaurus', 'suskityrannus', 'suuwassea', 'suzhousaurus', 'symphyrophus', 'syngonosaurus', 'syntarsus', 'syrmosaurus', 'szechuanosaurus', 'tachiraptor', 'talarurus', 'talenkauen', 'talos', 'tambatitanis', 'tangvayosaurus', 'tanius', 'tanycolagreus', 'tanystropheus', 'tanystrosuchus', 'taohelong', 'tapinocephalus', 'tapuiasaurus', 'tarascosaurus', 'tarbosaurus', 'tarchia', 'tastavinsaurus', 'tatankacephalus', 'tatankaceratops', 'tataouinea', 'tatisaurus', 'taurovenator', 'taveirosaurus', 'tawa', 'tawasaurus', 'tazoudasaurus', 'technosaurus', 'tecovasaurus', 'tehuelchesaurus', 'teihivenator', 'teinurosaurus', 'telmatosaurus', 'tendaguria', 'tengrisaurus', 'tenontosaurus', 'teratophoneus', 'teratosaurus', 'termatosaurus', 'tethyshadros', 'tetragonosaurus', 'texacephale', 'texasetes', 'teyuwasu', 'thanos', 'thecocoelurus', 'thecodontosaurus', 'thecospondylus', 'theiophytalia', 'therizinosaurus', 'therosaurus', 'thescelosaurus', 'thespesius', 'thotobolosaurus', 'tianchisaurus', 'tianyulong', 'tianyuraptor', 'tianzhenosaurus', 'tichosteus', 'tienshanosaurus', 'timimus', 'timurlengia', 'titanoceratops', 'titanosaurus', 'tochisaurus', 'tomodon', 'tonganosaurus', 'torilion', 'tongtianlong', 'tonouchisaurus', 'tornieria', 'torosaurus', 'torvosaurus', 'tototlmimus', 'trachodon', 'tratayenia', 'traukutitan', 'trialestes', 'triassolestes', 'tribelesodon', 'triceratops', 'trigonosaurus', 'trimucrodon', 'trinisaura', 'triunfosaurus', 'troodon', 'tsaagan', 'tsagantegia', 'tsintaosaurus', 'tugulusaurus', 'tuojiangosaurus', 'turanoceratops', 'turiasaurus', 'tylocephale', 'tylosteus', 'tyrannosaurus', 'tyrannotitan', 'uberabatitan', 'udanoceratops', 'ugrosaurus', 'uintasaurus', 'ultrasauros', 'umarsaurus', 'unaysaurus', 'unenlagia', 'unescoceratops', 'unquillosaurus', 'urbacodon', 'utahceratops', 'utahraptor', 'uteodon', 'vagaceratops', 'vahiny', 'valdoraptor', 'valdosaurus', 'vallibonavenatrix', 'variraptor', 'vectensia', 'vectisaurus', 'vayuraptor', 'velafrons', 'velocipes', 'velociraptor', 'velocisaurus', 'venaticosuchus', 'venenosaurus', 'vespersaurus', 'veterupristisaurus', 'viavenator', 'vitakridrinda', 'vitakrisaurus', 'volgatitan', 'volkheimeria', 'vouivria', 'vulcanodon', 'wadhurstia', 'wakinosaurus', 'walgettosuchus', 'walkeria', 'wamweracaudia', 'wannanosaurus', 'wellnhoferia', 'weewarrasaurus', 'wendiceratops', 'wiehenvenator', 'willinakaqe', 'wintonotitan', 'wuerhosaurus', 'wulagasaurus', 'wulatelong', 'wyleyia', 'xenoceratops', 'xenoposeidon', 'xenotarsosaurus', 'xianshanosaurus', 'xiaosaurus', 'xiaotingia', 'xingtianosaurus', 'xingxiulong', 'xinjiangovenator', 'xinjiangtitan', 'xiongguanlong', 'xixianykus', 'xixiasaurus', 'xixiposaurus', 'xiyunykus', 'xuanhanosaurus', 'xuanhuaceratops', 'xuwulong', 'yaleosaurus', 'yamaceratops', 'yandusaurus', 'yangchuanosaurus', 'yanornis', 'yaverlandia', 'yehuecauhceratops', 'yi', 'yibinosaurus', 'yimenosaurus', 'yingshanosaurus', 'yinlong', 'yixianosaurus', 'yizhousaurus', 'yongjinglong', 'yuanmouraptor', 'yuanmousaurus', 'yueosaurus', 'yulong', 'yunganglong', 'yunmenglong', 'yunnanosaurus', 'yunxianosaurus', 'yurgovuchia', 'yutyrannus', 'zalmoxes', 'zanabazar', 'zanclodon', 'zapalasaurus', 'zapsalis', 'zaraapelta', 'zatomus', 'zby', 'zephyrosaurus', 'zhanghenglong', 'zhejiangosaurus', 'zhenyuanlong', 'zhongornis', 'zhongyuansaurus', 'zhongjianosaurus', 'zhuchengceratops', 'zhuchengosaurus', 'zhuchengtitan', 'zhuchengtyrannus', 'ziapelta', 'zigongosaurus', 'zizhongosaurus', 'zuniceratops', 'zuolong', 'zuoyunlong', 'zupaysaurus', 'zuul']\n",
            "['a', 'a', 'c', 'h', 'e', 'n', 'o', 's', 'a', 'u', 'r', 'u', 's']\n"
          ]
        }
      ]
    },
    {
      "cell_type": "code",
      "source": [
        "class RNN(nn.Module):\n",
        "    def __init__(self, input_size, hidden_size):\n",
        "        super(RNN, self).__init__()\n",
        "\n",
        "        self.hidden_size = hidden_size\n",
        "        self.input_size = input_size \n",
        "        self.output_size = input_size \n",
        "\n",
        "        self.rnn = nn.GRU(input_size,hidden_size)\n",
        "        self.h2o = nn.Linear(hidden_size, input_size)\n",
        "\n",
        "    def forward(self, input, hidden):\n",
        "\n",
        "        output,hidden=self.rnn(input,hidden)\n",
        "        output=self.h2o(output)\n",
        "        return hidden , output "
      ],
      "metadata": {
        "id": "iWW1obSnWRgm"
      },
      "execution_count": null,
      "outputs": []
    },
    {
      "cell_type": "code",
      "source": [
        "learning_rate = 0.001\n",
        "\n",
        "model = RNN(input_size=chars_size, hidden_size=100)\n",
        "criterion = nn.CrossEntropyLoss()\n",
        "optimizer = torch.optim.Adam(model.parameters(), lr=learning_rate)"
      ],
      "metadata": {
        "id": "UWGIMqydW_Qq"
      },
      "execution_count": null,
      "outputs": []
    },
    {
      "cell_type": "code",
      "source": [
        "no_of_epochs=30\n",
        "hidden_size=100\n",
        "loss=[]\n",
        "for i in range(no_of_epochs):\n",
        "    epoch_loss = 0\n",
        "    n = 0\n",
        "    for word in data:\n",
        "        letters=list(word)\n",
        "        hidden=torch.zeros([1,1,hidden_size])\n",
        "        outputs=torch.zeros([len(letters)+1,chars_size])\n",
        "        target=list()\n",
        "        for c in letters:\n",
        "          target.append(char_to_ix[c])\n",
        "        target.append(char_to_ix['_'])\n",
        "        target_tensor=torch.LongTensor(target)\n",
        "        outputs[0,char_to_ix[letters[0]]]=1\n",
        "        i=0\n",
        "        batch_loss=0\n",
        "        while(i<len(letters)):\n",
        "          input=torch.zeros([1,chars_size],dtype=torch.float)\n",
        "          input[0,char_to_ix[letters[i]]]=1\n",
        "          input=input.unsqueeze(1)\n",
        "          hidden,output=model(input,hidden)\n",
        "          outputs[i+1]=output\n",
        "          i+=1\n",
        "        batch_loss=criterion(outputs,target_tensor)\n",
        "        epoch_loss+=batch_loss\n",
        "        optimizer.zero_grad()\n",
        "        batch_loss.backward()\n",
        "        optimizer.step()\n",
        "        n+=1\n",
        "    epoch_loss=epoch_loss/n\n",
        "    print(epoch_loss.item())\n",
        "    loss.append(epoch_loss.item())"
      ],
      "metadata": {
        "colab": {
          "base_uri": "https://localhost:8080/"
        },
        "id": "JXOg74FEXW26",
        "outputId": "a301c79c-2687-4b2f-9be6-f967ca2465e4"
      },
      "execution_count": null,
      "outputs": [
        {
          "output_type": "stream",
          "name": "stdout",
          "text": [
            "2.1375746726989746\n",
            "1.8281638622283936\n",
            "1.7311909198760986\n",
            "1.6618523597717285\n",
            "1.6079928874969482\n",
            "1.5636725425720215\n",
            "1.5238579511642456\n",
            "1.4857436418533325\n",
            "1.4479926824569702\n",
            "1.4101917743682861\n",
            "1.3720074892044067\n",
            "1.3332539796829224\n",
            "1.2941738367080688\n",
            "1.2551487684249878\n",
            "1.2174831628799438\n",
            "1.181427240371704\n",
            "1.1489067077636719\n",
            "1.116925597190857\n",
            "1.0903987884521484\n",
            "1.0629632472991943\n",
            "1.035271406173706\n",
            "1.0124279260635376\n",
            "0.9922187924385071\n",
            "0.9713345170021057\n",
            "0.9547164440155029\n",
            "0.9424368143081665\n",
            "0.9282976984977722\n",
            "0.9101054668426514\n",
            "0.9002645015716553\n",
            "0.8895940184593201\n"
          ]
        }
      ]
    },
    {
      "cell_type": "code",
      "source": [
        "model.eval()\n",
        "hidden_size = 100\n",
        "for letter in chars:\n",
        "    if(letter!=\"_\"):\n",
        "      print(letter,\"-\",end=\"\")\n",
        "      print(letter,end=\"\")\n",
        "      char = letter\n",
        "      input_idx = char_to_ix[char]\n",
        "      input = torch.zeros([1, chars_size], dtype=torch.float)\n",
        "      input[0, input_idx] = 1\n",
        "      input=input.unsqueeze(1)\n",
        "      \n",
        "\n",
        "      hidden = torch.zeros([1, 1,hidden_size])\n",
        "      idx = torch.tensor(char_to_ix[letter])\n",
        "      i=0\n",
        "      while ix_to_char[idx.item()] != \"_\":\n",
        "          i+=1\n",
        "          hidden, output = model(input, hidden)\n",
        "          idx = output.argmax()\n",
        "          input = torch.zeros([1, chars_size], dtype=torch.float)\n",
        "          input[0, idx] = 1\n",
        "          input=input.unsqueeze(1)\n",
        "          if(ix_to_char[idx.item()]!=\"_\"):\n",
        "            print(ix_to_char[idx.item()],end=\"\")\n",
        "      print(\"\")"
      ],
      "metadata": {
        "id": "3Lt08NfYYUL_",
        "colab": {
          "base_uri": "https://localhost:8080/"
        },
        "outputId": "e53a72df-fa57-4667-aeb0-bbc7a2bf5e6a"
      },
      "execution_count": null,
      "outputs": [
        {
          "output_type": "stream",
          "name": "stdout",
          "text": [
            "a -anthoceratops\n",
            "b -barasaurus\n",
            "c -camptosaurus\n",
            "d -dinotyrannus\n",
            "e -eoceratops\n",
            "f -fukuititan\n",
            "g -gallimimus\n",
            "h -hepatasaurus\n",
            "i -ingenia\n",
            "j -jingxingosaurus\n",
            "k -kandusaurus\n",
            "l -lambyisaurus\n",
            "m -marasuchus\n",
            "n -neosodon\n",
            "o -ornithopsis\n",
            "p -parasaurolophus\n",
            "q -qiupalong\n",
            "r -rapatoraptor\n",
            "s -sinopeltosaurus\n",
            "t -tanystropheus\n",
            "u -uranosaurus\n",
            "v -velafrons\n",
            "w -walkertosaurus\n",
            "x -xingwia\n",
            "y -yungyanglong\n",
            "z -zhunghungosaurus\n"
          ]
        }
      ]
    },
    {
      "cell_type": "code",
      "source": [
        "plt.title(\"GRU\")\n",
        "plt.xlabel(\"Number of Epochs\")\n",
        "plt.ylabel(\"Loss\")\n",
        "plt.plot(loss, label = \"Training Loss\")\n",
        "plt.show()"
      ],
      "metadata": {
        "colab": {
          "base_uri": "https://localhost:8080/",
          "height": 295
        },
        "id": "H4X9kDvI43Jf",
        "outputId": "6781f097-abff-4503-cb86-0c0a9090e041"
      },
      "execution_count": null,
      "outputs": [
        {
          "output_type": "display_data",
          "data": {
            "text/plain": [
              "<Figure size 432x288 with 1 Axes>"
            ],
            "image/png": "[encoded data removed]"
          },
          "metadata": {
            "needs_background": "light"
          }
        }
      ]
    }
  ]
}